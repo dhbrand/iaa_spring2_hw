{
 "cells": [
  {
   "cell_type": "code",
   "execution_count": 1,
   "metadata": {},
   "outputs": [],
   "source": [
    "# A simple example of a fully connected deep neural network (FCN)\n",
    "# The FCN trains on images of handwritten numbers from 0 to 9, then\n",
    "# takes an image of a handwritten number and estimates which number\n",
    "# it represents"
   ]
  },
  {
   "cell_type": "code",
   "execution_count": 2,
   "metadata": {},
   "outputs": [],
   "source": [
    "# Import matplotlib to display digit images\n",
    "\n",
    "import matplotlib.pyplot as plt\n",
    "\n",
    "# Import PyTorch data used in example program\n",
    "\n",
    "import torch\n",
    "import torch.nn as nn\n",
    "import torchvision.datasets as dsets\n",
    "import torchvision.transforms as xforms\n",
    "from torch.autograd import Variable"
   ]
  },
  {
   "cell_type": "code",
   "execution_count": 3,
   "metadata": {},
   "outputs": [],
   "source": [
    "input_size = 784  # The image size = 28x28 = 784\n",
    "hidden_size = 500  # Number of nodes in the hidden layer\n",
    "num_classes = 10  # Number of output classes (0..9)\n",
    "num_epochs = 5  # Number of times DNN is trained on training dataset\n",
    "batch_size = 100  # The size of input data for one iteration\n",
    "learning_rate = 0.001  # The speed of convergence"
   ]
  },
  {
   "cell_type": "code",
   "execution_count": 4,
   "metadata": {},
   "outputs": [],
   "source": [
    "# Read om training and test datasets, these are included as part of\n",
    "# PyTorch's dataset repository\n",
    "\n",
    "train_dataset = dsets.MNIST( root ='./data', train=True, transform=xforms.ToTensor(), download=True )\n",
    "test_dataset = dsets.MNIST( root='./data', train=False, transform=xforms.ToTensor() )"
   ]
  },
  {
   "cell_type": "code",
   "execution_count": 5,
   "metadata": {},
   "outputs": [
    {
     "name": "stdout",
     "output_type": "stream",
     "text": [
      "5    0\n"
     ]
    },
    {
     "data": {
      "text/plain": [
       "<matplotlib.image.AxesImage at 0x1fab57a3748>"
      ]
     },
     "execution_count": 5,
     "metadata": {},
     "output_type": "execute_result"
    },
    {
     "data": {
      "image/png": "[encoded data removed]",
      "text/plain": [
       "<Figure size 432x288 with 2 Axes>"
      ]
     },
     "metadata": {
      "needs_background": "light"
     },
     "output_type": "display_data"
    }
   ],
   "source": [
    "# Let's look at two of the images in the training dataset, and the\n",
    "# corresponding label (which defines the number the image represents)\n",
    "\n",
    "# Grab the first two images and corresponding numbers they represent\n",
    "# from the training set\n",
    "\n",
    "img_0, val_0 = train_dataset[ 0 ]\n",
    "img_1, val_1 = train_dataset[ 1 ]\n",
    "\n",
    "# Print out what numbers the two images are meant to represent\n",
    "\n",
    "print( val_0.item(), '  ', val_1.item() )\n",
    "\n",
    "# Create a single row of two images, place first image in the first\n",
    "# image position\n",
    "\n",
    "plt.subplot( 1, 2, 1 )\n",
    "plt.imshow( img_0.numpy()[ 0 ], cmap='gray' )\n",
    "\n",
    "# Place the second image in the second image position\n",
    "\n",
    "plt.subplot( 1, 2, 2 )\n",
    "plt.imshow( img_1.numpy()[ 0 ], cmap='gray' )"
   ]
  },
  {
   "cell_type": "code",
   "execution_count": 6,
   "metadata": {},
   "outputs": [],
   "source": [
    "# Create training and test dataloaders, these will load and cache data of batch_size during\n",
    "# looping, training data is shuffled randomly, test data is not\n",
    "\n",
    "train_loader = torch.utils.data.DataLoader( dataset=train_dataset, batch_size=batch_size, shuffle=True )\n",
    "test_loader = torch.utils.data.DataLoader( dataset=test_dataset, batch_size=batch_size, shuffle=False )"
   ]
  },
  {
   "cell_type": "code",
   "execution_count": 11,
   "metadata": {},
   "outputs": [],
   "source": [
    "net = nn.Sequential(\n",
    "  nn.Linear( input_size, hidden_size ),  # fully connected layer, 784 (input data) -> 500 (hidden layer)\n",
    "  nn.ReLU(),  # Rectified liner unit filter, max( 0, x )\n",
    "  nn.Linear( hidden_size, num_classes )  # output layer, 500 (hidden layer) -> 10 (output classes)\n",
    ")\n",
    "\n",
    "#net.cuda()  # Uncomment to enable GPU computation"
   ]
  },
  {
   "cell_type": "code",
   "execution_count": 13,
   "metadata": {},
   "outputs": [],
   "source": [
    "# Choose a cross-entropy loss function to use during evaluation of DNN performance, and an\n",
    "# Adam optimizer (Adam, see https://arxiv.org/abs/1412.6980) to update DNN weights\n",
    "\n",
    "criterion = nn.CrossEntropyLoss()\n",
    "optimizer = torch.optim.Adam( net.parameters(), lr=learning_rate )"
   ]
  },
  {
   "cell_type": "code",
   "execution_count": 14,
   "metadata": {},
   "outputs": [
    {
     "name": "stdout",
     "output_type": "stream",
     "text": [
      "Epoch [1/5], Step [100/600], Loss: 0.5752\n",
      "Epoch [1/5], Step [200/600], Loss: 0.3144\n",
      "Epoch [1/5], Step [300/600], Loss: 0.1291\n",
      "Epoch [1/5], Step [400/600], Loss: 0.2598\n",
      "Epoch [1/5], Step [500/600], Loss: 0.1865\n",
      "Epoch [1/5], Step [600/600], Loss: 0.1451\n",
      "Epoch [2/5], Step [100/600], Loss: 0.0957\n",
      "Epoch [2/5], Step [200/600], Loss: 0.0728\n",
      "Epoch [2/5], Step [300/600], Loss: 0.0587\n",
      "Epoch [2/5], Step [400/600], Loss: 0.0266\n",
      "Epoch [2/5], Step [500/600], Loss: 0.0251\n",
      "Epoch [2/5], Step [600/600], Loss: 0.0734\n",
      "Epoch [3/5], Step [100/600], Loss: 0.1127\n",
      "Epoch [3/5], Step [200/600], Loss: 0.0569\n",
      "Epoch [3/5], Step [300/600], Loss: 0.0640\n",
      "Epoch [3/5], Step [400/600], Loss: 0.0495\n",
      "Epoch [3/5], Step [500/600], Loss: 0.0445\n",
      "Epoch [3/5], Step [600/600], Loss: 0.0815\n",
      "Epoch [4/5], Step [100/600], Loss: 0.0929\n",
      "Epoch [4/5], Step [200/600], Loss: 0.0259\n",
      "Epoch [4/5], Step [300/600], Loss: 0.0104\n",
      "Epoch [4/5], Step [400/600], Loss: 0.1127\n",
      "Epoch [4/5], Step [500/600], Loss: 0.0153\n",
      "Epoch [4/5], Step [600/600], Loss: 0.0465\n",
      "Epoch [5/5], Step [100/600], Loss: 0.0414\n",
      "Epoch [5/5], Step [200/600], Loss: 0.0582\n",
      "Epoch [5/5], Step [300/600], Loss: 0.0360\n",
      "Epoch [5/5], Step [400/600], Loss: 0.0339\n",
      "Epoch [5/5], Step [500/600], Loss: 0.0069\n",
      "Epoch [5/5], Step [600/600], Loss: 0.0065\n"
     ]
    }
   ],
   "source": [
    "# Train the DNN\n",
    "\n",
    "for epoch in range( 0, num_epochs ):  # For each of the five epochs\n",
    "    \n",
    "    for i, (images, labels) in enumerate( train_loader ):  # For each of the 100-image batches\n",
    "        \n",
    "        images = Variable( images.view( -1, 28 * 28 ))  # Convert torch tensor to Variable, from 784-pix image to 28x28 matrix\n",
    "        labels = Variable( labels )  # Grab pre-assigned labels for each of the 100 images\n",
    "        \n",
    "        optimizer.zero_grad()  # Zero gradients for current pass\n",
    "        outputs = net( images )  # Forward pass, compute output class for given image\n",
    "        loss = criterion( outputs, labels )  # Compute loss, difference between estimated label and actual label\n",
    "        loss.backward()  # Backpropegation, compute improved weights\n",
    "        optimizer.step()  # Update weights of hidden nodes\n",
    "        \n",
    "        if ( i + 1 ) % 100 == 0:  # Log message\n",
    "            print( 'Epoch [%d/%d], Step [%d/%d], Loss: %.4f' % ( epoch + 1, num_epochs, i + 1, len( train_dataset ) // batch_size, loss.data ) )"
   ]
  },
  {
   "cell_type": "code",
   "execution_count": 15,
   "metadata": {},
   "outputs": [
    {
     "name": "stdout",
     "output_type": "stream",
     "text": [
      "Accuracy on 10K test images: 97 %\n"
     ]
    }
   ],
   "source": [
    "# Test performance on test images\n",
    "\n",
    "correct = 0\n",
    "total = 0\n",
    "\n",
    "for images, labels in test_loader:  # For each image the the test dataset\n",
    "    \n",
    "    images = Variable( images.view( -1, 28 * 28 ) )  # Convert torch tensor to Variable, from 784-pix image to 28x28 matrix\n",
    "    outputs = net( images )  # Get correct lables for each image\n",
    "    \n",
    "    _, predicted = torch.max( outputs.data, 1 )  # Choose best class from DNN output\n",
    "    total += labels.size( 0 )  # Increment total count\n",
    "    correct += ( predicted == labels ).sum()  # Increment correct prediction count\n",
    "    \n",
    "# Print overall accuracy of labeling\n",
    "    \n",
    "print( 'Accuracy on 10K test images: %d %%' % ( 100 * correct / total ) )"
   ]
  },
  {
   "cell_type": "code",
   "execution_count": null,
   "metadata": {},
   "outputs": [],
   "source": []
  }
 ],
 "metadata": {
  "kernelspec": {
   "display_name": "Python 3",
   "language": "python",
   "name": "python3"
  },
  "language_info": {
   "codemirror_mode": {
    "name": "ipython",
    "version": 3
   },
   "file_extension": ".py",
   "mimetype": "text/x-python",
   "name": "python",
   "nbconvert_exporter": "python",
   "pygments_lexer": "ipython3",
   "version": "3.6.6"
  }
 },
 "nbformat": 4,
 "nbformat_minor": 2
}
